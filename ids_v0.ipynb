{
 "cells": [
  {
   "cell_type": "markdown",
   "id": "20f1ad6e-7ded-45dc-92ba-ebc6ab1a92a6",
   "metadata": {},
   "source": [
    "Import necessary libraries"
   ]
  },
  {
   "cell_type": "code",
   "execution_count": 1,
   "id": "2d1d4470-44eb-46d3-974b-ba7bbbad549e",
   "metadata": {},
   "outputs": [],
   "source": [
    "import numpy as np \n",
    "import pandas as pd\n",
    "import matplotlib.pyplot as plt\n",
    "import seaborn as sns\n",
    "from sklearn.preprocessing import LabelEncoder ,StandardScaler\n",
    "from sklearn.model_selection import train_test_split\n",
    "from sklearn.metrics import accuracy_score\n",
    "import itertools\n",
    "from sklearn.ensemble import RandomForestClassifier\n",
    "from sklearn.feature_selection import RFE\n",
    "from tensorflow.keras.models import Sequential\n",
    "from tensorflow.keras.layers import Dense, Activation\n",
    "from tensorflow.keras.callbacks import EarlyStopping,TensorBoard\n",
    "import time\n",
    "import tensorflow as tf"
   ]
  },
  {
   "cell_type": "code",
   "execution_count": 2,
   "id": "e778b5cd-d00c-4634-bf65-adfab2f3f4d1",
   "metadata": {},
   "outputs": [],
   "source": [
    "train_df =pd.read_csv('DB/Train_data.csv')\n",
    "test_df =pd.read_csv('DB/Test_data.csv')"
   ]
  },
  {
   "cell_type": "code",
   "execution_count": 3,
   "id": "0c1c7ea9-bdd4-4dc9-926e-23ec2927c417",
   "metadata": {},
   "outputs": [
    {
     "data": {
      "text/plain": [
       "(25192, 42)"
      ]
     },
     "execution_count": 3,
     "metadata": {},
     "output_type": "execute_result"
    }
   ],
   "source": [
    "train_df.shape\n"
   ]
  },
  {
   "cell_type": "code",
   "execution_count": 4,
   "id": "66c2fa2f-4f8d-4c05-9370-ff3144c46b77",
   "metadata": {},
   "outputs": [
    {
     "data": {
      "text/plain": [
       "(22544, 41)"
      ]
     },
     "execution_count": 4,
     "metadata": {},
     "output_type": "execute_result"
    }
   ],
   "source": [
    "test_df.shape"
   ]
  },
  {
   "cell_type": "code",
   "execution_count": 5,
   "id": "d8ebdf93-0048-40c4-a44c-f02b6bfd1acc",
   "metadata": {},
   "outputs": [
    {
     "name": "stdout",
     "output_type": "stream",
     "text": [
      "<class 'pandas.core.frame.DataFrame'>\n",
      "RangeIndex: 25192 entries, 0 to 25191\n",
      "Data columns (total 42 columns):\n",
      " #   Column                       Non-Null Count  Dtype  \n",
      "---  ------                       --------------  -----  \n",
      " 0   duration                     25192 non-null  int64  \n",
      " 1   protocol_type                25192 non-null  object \n",
      " 2   service                      25192 non-null  object \n",
      " 3   flag                         25192 non-null  object \n",
      " 4   src_bytes                    25192 non-null  int64  \n",
      " 5   dst_bytes                    25192 non-null  int64  \n",
      " 6   land                         25192 non-null  int64  \n",
      " 7   wrong_fragment               25192 non-null  int64  \n",
      " 8   urgent                       25192 non-null  int64  \n",
      " 9   hot                          25192 non-null  int64  \n",
      " 10  num_failed_logins            25192 non-null  int64  \n",
      " 11  logged_in                    25192 non-null  int64  \n",
      " 12  num_compromised              25192 non-null  int64  \n",
      " 13  root_shell                   25192 non-null  int64  \n",
      " 14  su_attempted                 25192 non-null  int64  \n",
      " 15  num_root                     25192 non-null  int64  \n",
      " 16  num_file_creations           25192 non-null  int64  \n",
      " 17  num_shells                   25192 non-null  int64  \n",
      " 18  num_access_files             25192 non-null  int64  \n",
      " 19  num_outbound_cmds            25192 non-null  int64  \n",
      " 20  is_host_login                25192 non-null  int64  \n",
      " 21  is_guest_login               25192 non-null  int64  \n",
      " 22  count                        25192 non-null  int64  \n",
      " 23  srv_count                    25192 non-null  int64  \n",
      " 24  serror_rate                  25192 non-null  float64\n",
      " 25  srv_serror_rate              25192 non-null  float64\n",
      " 26  rerror_rate                  25192 non-null  float64\n",
      " 27  srv_rerror_rate              25192 non-null  float64\n",
      " 28  same_srv_rate                25192 non-null  float64\n",
      " 29  diff_srv_rate                25192 non-null  float64\n",
      " 30  srv_diff_host_rate           25192 non-null  float64\n",
      " 31  dst_host_count               25192 non-null  int64  \n",
      " 32  dst_host_srv_count           25192 non-null  int64  \n",
      " 33  dst_host_same_srv_rate       25192 non-null  float64\n",
      " 34  dst_host_diff_srv_rate       25192 non-null  float64\n",
      " 35  dst_host_same_src_port_rate  25192 non-null  float64\n",
      " 36  dst_host_srv_diff_host_rate  25192 non-null  float64\n",
      " 37  dst_host_serror_rate         25192 non-null  float64\n",
      " 38  dst_host_srv_serror_rate     25192 non-null  float64\n",
      " 39  dst_host_rerror_rate         25192 non-null  float64\n",
      " 40  dst_host_srv_rerror_rate     25192 non-null  float64\n",
      " 41  class                        25192 non-null  object \n",
      "dtypes: float64(15), int64(23), object(4)\n",
      "memory usage: 8.1+ MB\n"
     ]
    }
   ],
   "source": [
    "train_df.info()"
   ]
  },
  {
   "cell_type": "code",
   "execution_count": 6,
   "id": "cb27ab25-8e3c-4ea2-a5b9-7c79bc7e9303",
   "metadata": {},
   "outputs": [
    {
     "data": {
      "text/plain": [
       "duration                       0\n",
       "protocol_type                  0\n",
       "service                        0\n",
       "flag                           0\n",
       "src_bytes                      0\n",
       "dst_bytes                      0\n",
       "land                           0\n",
       "wrong_fragment                 0\n",
       "urgent                         0\n",
       "hot                            0\n",
       "num_failed_logins              0\n",
       "logged_in                      0\n",
       "num_compromised                0\n",
       "root_shell                     0\n",
       "su_attempted                   0\n",
       "num_root                       0\n",
       "num_file_creations             0\n",
       "num_shells                     0\n",
       "num_access_files               0\n",
       "num_outbound_cmds              0\n",
       "is_host_login                  0\n",
       "is_guest_login                 0\n",
       "count                          0\n",
       "srv_count                      0\n",
       "serror_rate                    0\n",
       "srv_serror_rate                0\n",
       "rerror_rate                    0\n",
       "srv_rerror_rate                0\n",
       "same_srv_rate                  0\n",
       "diff_srv_rate                  0\n",
       "srv_diff_host_rate             0\n",
       "dst_host_count                 0\n",
       "dst_host_srv_count             0\n",
       "dst_host_same_srv_rate         0\n",
       "dst_host_diff_srv_rate         0\n",
       "dst_host_same_src_port_rate    0\n",
       "dst_host_srv_diff_host_rate    0\n",
       "dst_host_serror_rate           0\n",
       "dst_host_srv_serror_rate       0\n",
       "dst_host_rerror_rate           0\n",
       "dst_host_srv_rerror_rate       0\n",
       "class                          0\n",
       "dtype: int64"
      ]
     },
     "execution_count": 6,
     "metadata": {},
     "output_type": "execute_result"
    }
   ],
   "source": [
    "train_df.isna().sum()"
   ]
  },
  {
   "cell_type": "code",
   "execution_count": 7,
   "id": "5ee5bbee-879d-46d5-ba0a-3afe164a5498",
   "metadata": {},
   "outputs": [
    {
     "data": {
      "text/plain": [
       "0"
      ]
     },
     "execution_count": 7,
     "metadata": {},
     "output_type": "execute_result"
    }
   ],
   "source": [
    "train_df.duplicated().sum()"
   ]
  },
  {
   "cell_type": "code",
   "execution_count": 8,
   "id": "a2c3b912-3d52-4659-9abe-cc91c1514027",
   "metadata": {},
   "outputs": [
    {
     "data": {
      "text/plain": [
       "<Axes: xlabel='class', ylabel='count'>"
      ]
     },
     "execution_count": 8,
     "metadata": {},
     "output_type": "execute_result"
    },
    {
     "data": {
      "image/png": "[encoded data removed]",
      "text/plain": [
       "<Figure size 640x480 with 1 Axes>"
      ]
     },
     "metadata": {},
     "output_type": "display_data"
    }
   ],
   "source": [
    "sns.countplot(x=train_df['class'])"
   ]
  },
  {
   "cell_type": "code",
   "execution_count": 9,
   "id": "796ef95a-eb74-4e22-9e42-a13ff19b8056",
   "metadata": {},
   "outputs": [
    {
     "data": {
      "text/plain": [
       "class\n",
       "normal     13449\n",
       "anomaly    11743\n",
       "Name: count, dtype: int64"
      ]
     },
     "execution_count": 9,
     "metadata": {},
     "output_type": "execute_result"
    }
   ],
   "source": [
    "train_df['class'].value_counts()"
   ]
  },
  {
   "cell_type": "code",
   "execution_count": 10,
   "id": "b0d04c1c-4b53-4a92-a204-c41fa3a72514",
   "metadata": {},
   "outputs": [],
   "source": [
    "def label_encoding_df(df):\n",
    "    for col in df :\n",
    "        if df[col].dtype=='object':\n",
    "            le =LabelEncoder()\n",
    "            df[col] = le.fit_transform(df[col])\n",
    "\n",
    "label_encoding_df(train_df)\n",
    "        "
   ]
  },
  {
   "cell_type": "code",
   "execution_count": 11,
   "id": "3791591c-c25c-4b13-913a-1f8675a96a55",
   "metadata": {},
   "outputs": [],
   "source": [
    "X_train = train_df.drop('class' ,axis=1)\n",
    "y_train = train_df['class']"
   ]
  },
  {
   "cell_type": "markdown",
   "id": "2696161b-279d-4499-b1d3-7ad417993823",
   "metadata": {},
   "source": [
    "Selection important features\n"
   ]
  },
  {
   "cell_type": "code",
   "execution_count": 12,
   "id": "62a092c2-f7d3-4d06-9dc3-dd75814c16bf",
   "metadata": {},
   "outputs": [
    {
     "name": "stdout",
     "output_type": "stream",
     "text": [
      "RFE-selected features and their importances:\n",
      "                   Feature  Importance\n",
      "4                src_bytes    0.178787\n",
      "5                dst_bytes    0.129526\n",
      "3                     flag    0.081490\n",
      "33  dst_host_same_srv_rate    0.069848\n",
      "29           diff_srv_rate    0.067623\n",
      "28           same_srv_rate    0.063800\n",
      "1            protocol_type    0.036791\n",
      "32      dst_host_srv_count    0.034559\n",
      "22                   count    0.033973\n",
      "2                  service    0.022198\n",
      "['protocol_type', 'service', 'flag', 'src_bytes', 'dst_bytes', 'count', 'same_srv_rate', 'diff_srv_rate', 'dst_host_srv_count', 'dst_host_same_srv_rate']\n"
     ]
    }
   ],
   "source": [
    "rf = RandomForestClassifier()\n",
    "\n",
    "rfe = RFE(rf, n_features_to_select=10)\n",
    "rfe = rfe.fit(X_train, y_train)\n",
    "\n",
    "rf.fit(X_train, y_train)\n",
    "\n",
    "feature_map = [(i, v) for i, v in itertools.zip_longest(rfe.get_support(), X_train.columns)]\n",
    "rfe_features = [v for i, v in feature_map if i == True]\n",
    "\n",
    "importances = rf.feature_importances_\n",
    "\n",
    "feature_importances = pd.DataFrame({'Feature': X_train.columns, 'Importance': importances})\n",
    "feature_importances = feature_importances.sort_values(by='Importance', ascending=False)\n",
    "\n",
    "rfe_importances = feature_importances[feature_importances['Feature'].isin(rfe_features)]\n",
    "\n",
    "\n",
    "\n",
    "print(\"RFE-selected features and their importances:\")\n",
    "print(rfe_importances)\n",
    "\n",
    "print(rfe_features)"
   ]
  },
  {
   "cell_type": "code",
   "execution_count": 13,
   "id": "5c154b98-d102-4987-8fae-5554a8dd8e9d",
   "metadata": {},
   "outputs": [
    {
     "name": "stdout",
     "output_type": "stream",
     "text": [
      "Random forest-selected features and their importances:\n",
      "                        Feature  Importance\n",
      "4                     src_bytes    0.192782\n",
      "5                     dst_bytes    0.103424\n",
      "28                same_srv_rate    0.072913\n",
      "3                          flag    0.067566\n",
      "32           dst_host_srv_count    0.066673\n",
      "33       dst_host_same_srv_rate    0.063099\n",
      "11                    logged_in    0.043157\n",
      "29                diff_srv_rate    0.034761\n",
      "22                        count    0.033314\n",
      "24                  serror_rate    0.033281\n",
      "34       dst_host_diff_srv_rate    0.032665\n",
      "1                 protocol_type    0.032486\n",
      "25              srv_serror_rate    0.029465\n",
      "35  dst_host_same_src_port_rate    0.027699\n",
      "2                       service    0.024101\n",
      "36  dst_host_srv_diff_host_rate    0.022819\n",
      "23                    srv_count    0.017073\n",
      "37         dst_host_serror_rate    0.016941\n",
      "39         dst_host_rerror_rate    0.015698\n",
      "31               dst_host_count    0.013308\n",
      "38     dst_host_srv_serror_rate    0.012202\n",
      "9                           hot    0.009925\n",
      "40     dst_host_srv_rerror_rate    0.007577\n",
      "26                  rerror_rate    0.005015\n",
      "27              srv_rerror_rate    0.004827\n",
      "12              num_compromised    0.004818\n",
      "7                wrong_fragment    0.004340\n",
      "0                      duration    0.003276\n",
      "30           srv_diff_host_rate    0.002661\n",
      "21               is_guest_login    0.000968\n",
      "15                     num_root    0.000450\n",
      "16           num_file_creations    0.000212\n",
      "10            num_failed_logins    0.000145\n",
      "13                   root_shell    0.000108\n",
      "18             num_access_files    0.000108\n",
      "8                        urgent    0.000065\n",
      "14                 su_attempted    0.000033\n",
      "6                          land    0.000024\n",
      "17                   num_shells    0.000020\n",
      "19            num_outbound_cmds    0.000000\n",
      "20                is_host_login    0.000000\n",
      "['src_bytes', 'dst_bytes', 'same_srv_rate', 'flag', 'dst_host_srv_count', 'dst_host_same_srv_rate', 'logged_in', 'diff_srv_rate', 'count', 'serror_rate']\n"
     ]
    }
   ],
   "source": [
    "\n",
    "model = RandomForestClassifier(n_estimators=100, random_state=42)\n",
    "model.fit(X_train, y_train)\n",
    "\n",
    "importances = model.feature_importances_\n",
    "\n",
    "feature_importances = pd.DataFrame({'Feature': X_train.columns, 'Importance': importances})\n",
    "feature_importances = feature_importances.sort_values(by='Importance', ascending=False)\n",
    "print(\"Random forest-selected features and their importances:\")\n",
    "print(feature_importances)\n",
    "\n",
    "tree_features = feature_importances['Feature'].head(10).tolist()\n",
    "print(tree_features)"
   ]
  },
  {
   "cell_type": "code",
   "execution_count": 14,
   "id": "f1b14fd0-0ddb-4543-89fb-ed27ef0614fb",
   "metadata": {},
   "outputs": [
    {
     "data": {
      "image/png": "[encoded data removed]",
      "text/plain": [
       "<Figure size 1200x600 with 1 Axes>"
      ]
     },
     "metadata": {},
     "output_type": "display_data"
    },
    {
     "data": {
      "image/png": "[encoded data removed]",
      "text/plain": [
       "<Figure size 1200x600 with 1 Axes>"
      ]
     },
     "metadata": {},
     "output_type": "display_data"
    }
   ],
   "source": [
    "\n",
    "plt.figure(figsize=(12, 6))\n",
    "plt.barh(rfe_importances['Feature'], rfe_importances['Importance'], color='skyblue')\n",
    "plt.xlabel('Importance')\n",
    "plt.ylabel('Feature')\n",
    "plt.title('Feature Importances of RFE-selected Features')\n",
    "plt.gca().invert_yaxis()\n",
    "plt.show()\n",
    "\n",
    "rf_importances = feature_importances[feature_importances['Feature'].isin(rfe_features + ['logged_in', 'serror_rate'])]\n",
    "\n",
    "plt.figure(figsize=(12, 6))\n",
    "plt.barh(rf_importances['Feature'], rf_importances['Importance'], color='lightcoral')\n",
    "plt.xlabel('Importance')\n",
    "plt.ylabel('Feature')\n",
    "plt.title('Feature Importances of Random Forest-selected Features')\n",
    "plt.gca().invert_yaxis()\n",
    "plt.show()"
   ]
  },
  {
   "cell_type": "code",
   "execution_count": 15,
   "id": "51eaa97d-1f94-4afe-b233-878afff8f694",
   "metadata": {},
   "outputs": [],
   "source": [
    "features = list(set(tree_features + rfe_features))"
   ]
  },
  {
   "cell_type": "code",
   "execution_count": 16,
   "id": "2c95245c-4246-497f-a546-ea4819da9729",
   "metadata": {},
   "outputs": [
    {
     "data": {
      "text/plain": [
       "['serror_rate',\n",
       " 'same_srv_rate',\n",
       " 'logged_in',\n",
       " 'dst_host_srv_count',\n",
       " 'flag',\n",
       " 'protocol_type',\n",
       " 'service',\n",
       " 'count',\n",
       " 'dst_host_same_srv_rate',\n",
       " 'diff_srv_rate',\n",
       " 'src_bytes',\n",
       " 'dst_bytes']"
      ]
     },
     "execution_count": 16,
     "metadata": {},
     "output_type": "execute_result"
    }
   ],
   "source": [
    "features"
   ]
  },
  {
   "cell_type": "code",
   "execution_count": 17,
   "id": "383ca488-1491-4949-9ea1-27e8f86ddb20",
   "metadata": {
    "scrolled": true
   },
   "outputs": [],
   "source": [
    "X = X_train[features]\n",
    "y = train_df['class']"
   ]
  },
  {
   "cell_type": "code",
   "execution_count": 18,
   "id": "273645c1-b009-4049-9919-0962f53cd2bf",
   "metadata": {
    "scrolled": true
   },
   "outputs": [
    {
     "data": {
      "text/plain": [
       "(25192, 12)"
      ]
     },
     "execution_count": 18,
     "metadata": {},
     "output_type": "execute_result"
    }
   ],
   "source": [
    "X_train[features].shape\n"
   ]
  },
  {
   "cell_type": "code",
   "execution_count": 19,
   "id": "df70a001-d2ac-4d66-9aee-7fffdb77a01b",
   "metadata": {},
   "outputs": [
    {
     "data": {
      "text/plain": [
       "(25192,)"
      ]
     },
     "execution_count": 19,
     "metadata": {},
     "output_type": "execute_result"
    }
   ],
   "source": [
    "y.shape"
   ]
  },
  {
   "cell_type": "code",
   "execution_count": 20,
   "id": "ea5300e5-1adc-4dd6-b325-b209f019d430",
   "metadata": {},
   "outputs": [],
   "source": [
    "scaler = StandardScaler()\n",
    "X = scaler.fit_transform(X)\n",
    "x_train, x_test, y_train, y_test = train_test_split(X, y, train_size=0.70, random_state=2)"
   ]
  },
  {
   "cell_type": "code",
   "execution_count": 21,
   "id": "6e64ab40-3d96-4d3e-8ede-1989b2cc8c97",
   "metadata": {
    "scrolled": true
   },
   "outputs": [
    {
     "name": "stdout",
     "output_type": "stream",
     "text": [
      "237/237 [==============================] - 0s 2ms/step\n",
      "Number of Dense Layers: 1, Accuracy: 0.9747287642233395\n",
      "237/237 [==============================] - 0s 2ms/step\n",
      "Number of Dense Layers: 2, Accuracy: 0.9798888594866367\n",
      "237/237 [==============================] - 0s 2ms/step\n",
      "Number of Dense Layers: 3, Accuracy: 0.977639587192379\n",
      "237/237 [==============================] - 0s 2ms/step\n",
      "Number of Dense Layers: 4, Accuracy: 0.9759195554379465\n",
      "237/237 [==============================] - 0s 2ms/step\n",
      "Number of Dense Layers: 5, Accuracy: 0.9779042074622916\n",
      "Best Number of Dense Layers: 2, Best Accuracy: 0.9798888594866367\n"
     ]
    }
   ],
   "source": [
    "\n",
    "candidate_dense_layers = [1, 2, 3, 4, 5]\n",
    "\n",
    "best_accuracy = 0\n",
    "best_num_dense_layers = None\n",
    "\n",
    "for num_dense_layers in candidate_dense_layers:\n",
    "    model = Sequential()\n",
    "    \n",
    "    model.add(Dense(units=64, activation='relu', input_dim=x_train.shape[1]))\n",
    "    \n",
    "    for _ in range(num_dense_layers):\n",
    "        model.add(Dense(units=64, activation='relu'))\n",
    "    \n",
    "    model.add(Dense(units=1, activation='sigmoid'))\n",
    "    \n",
    "    model.compile(loss='binary_crossentropy', optimizer='adam', metrics=['accuracy'])\n",
    "    \n",
    "\n",
    "    model.fit(x_train, y_train, epochs=10, batch_size=32, verbose=0)\n",
    "    \n",
    "    y_pred = (model.predict(x_test) > 0.5).astype(int)\n",
    "    accuracy = accuracy_score(y_test, y_pred)\n",
    "    \n",
    "    print(f\"Number of Dense Layers: {num_dense_layers}, Accuracy: {accuracy}\")\n",
    "    \n",
    "    if accuracy > best_accuracy:\n",
    "        best_accuracy = accuracy\n",
    "        best_num_dense_layers = num_dense_layers\n",
    "\n",
    "print(f\"Best Number of Dense Layers: {best_num_dense_layers}, Best Accuracy: {best_accuracy}\")"
   ]
  },
  {
   "cell_type": "code",
   "execution_count": 22,
   "id": "7cf48c4f-85de-403a-b731-7a305fad7711",
   "metadata": {
    "scrolled": true
   },
   "outputs": [
    {
     "name": "stdout",
     "output_type": "stream",
     "text": [
      "Epoch 1/100\n",
      "552/552 [==============================] - 3s 5ms/step - loss: 0.1293 - accuracy: 0.9599\n",
      "Epoch 2/100\n",
      "552/552 [==============================] - 2s 5ms/step - loss: 0.0920 - accuracy: 0.9695\n",
      "Epoch 3/100\n",
      "552/552 [==============================] - 3s 5ms/step - loss: 0.0841 - accuracy: 0.9715\n",
      "Epoch 4/100\n",
      "552/552 [==============================] - 3s 5ms/step - loss: 0.0822 - accuracy: 0.9718\n",
      "Epoch 5/100\n",
      "552/552 [==============================] - 3s 5ms/step - loss: 0.0784 - accuracy: 0.9731\n",
      "Epoch 6/100\n",
      "552/552 [==============================] - 3s 5ms/step - loss: 0.0748 - accuracy: 0.9730\n",
      "Epoch 7/100\n",
      "552/552 [==============================] - 3s 5ms/step - loss: 0.0731 - accuracy: 0.9747\n",
      "Epoch 8/100\n",
      "552/552 [==============================] - 3s 5ms/step - loss: 0.0698 - accuracy: 0.9758\n",
      "Epoch 9/100\n",
      "552/552 [==============================] - 2s 4ms/step - loss: 0.0671 - accuracy: 0.9779\n",
      "Epoch 10/100\n",
      "552/552 [==============================] - 3s 5ms/step - loss: 0.0663 - accuracy: 0.9787\n",
      "Epoch 11/100\n",
      "552/552 [==============================] - 3s 5ms/step - loss: 0.0621 - accuracy: 0.9794\n",
      "Epoch 12/100\n",
      "552/552 [==============================] - 3s 5ms/step - loss: 0.0584 - accuracy: 0.9808\n",
      "Epoch 13/100\n",
      "552/552 [==============================] - 3s 5ms/step - loss: 0.0536 - accuracy: 0.9814\n",
      "Epoch 14/100\n",
      "552/552 [==============================] - 3s 5ms/step - loss: 0.0522 - accuracy: 0.9825\n",
      "Epoch 15/100\n",
      "552/552 [==============================] - 3s 5ms/step - loss: 0.0487 - accuracy: 0.9830\n",
      "Epoch 16/100\n",
      "552/552 [==============================] - 2s 5ms/step - loss: 0.0454 - accuracy: 0.9849\n",
      "Epoch 17/100\n",
      "552/552 [==============================] - 2s 4ms/step - loss: 0.0439 - accuracy: 0.9850\n",
      "Epoch 18/100\n",
      "552/552 [==============================] - 3s 5ms/step - loss: 0.0425 - accuracy: 0.9862\n",
      "Epoch 19/100\n",
      "552/552 [==============================] - 3s 5ms/step - loss: 0.0438 - accuracy: 0.9853\n",
      "Epoch 20/100\n",
      "552/552 [==============================] - 3s 5ms/step - loss: 0.0409 - accuracy: 0.9860\n",
      "Epoch 21/100\n",
      "552/552 [==============================] - 2s 4ms/step - loss: 0.0413 - accuracy: 0.9859\n",
      "Epoch 22/100\n",
      "552/552 [==============================] - 3s 5ms/step - loss: 0.0409 - accuracy: 0.9864\n",
      "Epoch 23/100\n",
      "552/552 [==============================] - 3s 5ms/step - loss: 0.0399 - accuracy: 0.9866\n",
      "Epoch 24/100\n",
      "552/552 [==============================] - 2s 5ms/step - loss: 0.0380 - accuracy: 0.9872\n",
      "Epoch 25/100\n",
      "552/552 [==============================] - 3s 5ms/step - loss: 0.0517 - accuracy: 0.9855\n",
      "Epoch 26/100\n",
      "552/552 [==============================] - 3s 5ms/step - loss: 0.0398 - accuracy: 0.9865\n",
      "Epoch 27/100\n",
      "552/552 [==============================] - 2s 4ms/step - loss: 0.0376 - accuracy: 0.9872\n",
      "Epoch 28/100\n",
      "552/552 [==============================] - 3s 5ms/step - loss: 0.0383 - accuracy: 0.9868\n",
      "Epoch 29/100\n",
      "552/552 [==============================] - 2s 4ms/step - loss: 0.0380 - accuracy: 0.9867\n",
      "Epoch 30/100\n",
      "552/552 [==============================] - 3s 5ms/step - loss: 0.0359 - accuracy: 0.9881\n",
      "Epoch 31/100\n",
      "552/552 [==============================] - 2s 5ms/step - loss: 0.0378 - accuracy: 0.9871\n",
      "Epoch 32/100\n",
      "552/552 [==============================] - 3s 5ms/step - loss: 0.0360 - accuracy: 0.9872\n",
      "Epoch 33/100\n",
      "552/552 [==============================] - 3s 5ms/step - loss: 0.0389 - accuracy: 0.9868\n",
      "Epoch 34/100\n",
      "552/552 [==============================] - 3s 5ms/step - loss: 0.0373 - accuracy: 0.9871\n",
      "Epoch 35/100\n",
      "552/552 [==============================] - 2s 4ms/step - loss: 0.0349 - accuracy: 0.9875\n",
      "Epoch 36/100\n",
      "552/552 [==============================] - 3s 5ms/step - loss: 0.0493 - accuracy: 0.9845\n",
      "Epoch 37/100\n",
      "552/552 [==============================] - 2s 4ms/step - loss: 0.0361 - accuracy: 0.9871\n",
      "Epoch 38/100\n",
      "552/552 [==============================] - 3s 5ms/step - loss: 0.0370 - accuracy: 0.9871\n",
      "Epoch 39/100\n",
      "552/552 [==============================] - 2s 4ms/step - loss: 0.0351 - accuracy: 0.9874\n",
      "Epoch 40/100\n",
      "552/552 [==============================] - 3s 5ms/step - loss: 0.0355 - accuracy: 0.9880\n",
      "Epoch 41/100\n",
      "552/552 [==============================] - 3s 5ms/step - loss: 0.0351 - accuracy: 0.9871\n",
      "Epoch 42/100\n",
      "552/552 [==============================] - 3s 5ms/step - loss: 0.0344 - accuracy: 0.9884\n",
      "Epoch 43/100\n",
      "552/552 [==============================] - 3s 5ms/step - loss: 0.0353 - accuracy: 0.9870\n",
      "Epoch 44/100\n",
      "552/552 [==============================] - 3s 5ms/step - loss: 0.0346 - accuracy: 0.9879\n",
      "Epoch 45/100\n",
      "552/552 [==============================] - 3s 5ms/step - loss: 0.0351 - accuracy: 0.9882\n",
      "Epoch 46/100\n",
      "552/552 [==============================] - 3s 5ms/step - loss: 0.0353 - accuracy: 0.9876\n",
      "Epoch 47/100\n",
      "552/552 [==============================] - 3s 5ms/step - loss: 0.0367 - accuracy: 0.9879\n",
      "Epoch 48/100\n",
      "552/552 [==============================] - 3s 5ms/step - loss: 0.0327 - accuracy: 0.9880\n",
      "Epoch 49/100\n",
      "552/552 [==============================] - 3s 5ms/step - loss: 0.0343 - accuracy: 0.9875\n",
      "Epoch 50/100\n",
      "552/552 [==============================] - 3s 5ms/step - loss: 0.0339 - accuracy: 0.9878\n",
      "Epoch 51/100\n",
      "552/552 [==============================] - 3s 5ms/step - loss: 0.0357 - accuracy: 0.9873\n",
      "Epoch 52/100\n",
      "552/552 [==============================] - 3s 5ms/step - loss: 0.0329 - accuracy: 0.9885\n",
      "Epoch 53/100\n",
      "552/552 [==============================] - 3s 5ms/step - loss: 0.0324 - accuracy: 0.9881\n",
      "Epoch 54/100\n",
      "552/552 [==============================] - 3s 5ms/step - loss: 0.0341 - accuracy: 0.9881\n",
      "Epoch 55/100\n",
      "552/552 [==============================] - 3s 5ms/step - loss: 0.0317 - accuracy: 0.9885\n",
      "Epoch 56/100\n",
      "552/552 [==============================] - 3s 5ms/step - loss: 0.0328 - accuracy: 0.9886\n",
      "Epoch 57/100\n",
      "552/552 [==============================] - 3s 5ms/step - loss: 0.0324 - accuracy: 0.9884\n",
      "Epoch 58/100\n",
      "552/552 [==============================] - 3s 5ms/step - loss: 0.0330 - accuracy: 0.9880\n",
      "Epoch 59/100\n",
      "552/552 [==============================] - 3s 6ms/step - loss: 0.0312 - accuracy: 0.9893\n",
      "Epoch 60/100\n",
      "552/552 [==============================] - 70s 127ms/step - loss: 0.0325 - accuracy: 0.9887\n",
      "Epoch 61/100\n",
      "552/552 [==============================] - 3s 6ms/step - loss: 0.0322 - accuracy: 0.9883\n",
      "Epoch 62/100\n",
      "552/552 [==============================] - 3s 5ms/step - loss: 0.0321 - accuracy: 0.9886\n",
      "Epoch 63/100\n",
      "552/552 [==============================] - 3s 5ms/step - loss: 0.0303 - accuracy: 0.9896\n",
      "Epoch 64/100\n",
      "552/552 [==============================] - 3s 5ms/step - loss: 0.0358 - accuracy: 0.9878\n",
      "Epoch 65/100\n",
      "552/552 [==============================] - 3s 5ms/step - loss: 0.0323 - accuracy: 0.9883\n",
      "Epoch 66/100\n",
      "552/552 [==============================] - 3s 5ms/step - loss: 0.0303 - accuracy: 0.9893\n",
      "Epoch 67/100\n",
      "552/552 [==============================] - 3s 5ms/step - loss: 0.0344 - accuracy: 0.9880\n",
      "Epoch 68/100\n",
      "552/552 [==============================] - 3s 5ms/step - loss: 0.0325 - accuracy: 0.9887\n",
      "Epoch 69/100\n",
      "552/552 [==============================] - 3s 5ms/step - loss: 0.0304 - accuracy: 0.9893\n",
      "Epoch 70/100\n",
      "552/552 [==============================] - 3s 5ms/step - loss: 0.0321 - accuracy: 0.9885\n",
      "Epoch 71/100\n",
      "552/552 [==============================] - 3s 5ms/step - loss: 0.0299 - accuracy: 0.9893\n",
      "Epoch 72/100\n",
      "552/552 [==============================] - 3s 5ms/step - loss: 0.0319 - accuracy: 0.9888\n",
      "Epoch 73/100\n",
      "552/552 [==============================] - 3s 5ms/step - loss: 0.0291 - accuracy: 0.9896\n",
      "Epoch 74/100\n",
      "552/552 [==============================] - 3s 5ms/step - loss: 0.0300 - accuracy: 0.9890\n",
      "Epoch 75/100\n",
      "552/552 [==============================] - 3s 5ms/step - loss: 0.0310 - accuracy: 0.9889\n",
      "Epoch 76/100\n",
      "552/552 [==============================] - 3s 5ms/step - loss: 0.0301 - accuracy: 0.9889\n",
      "Epoch 77/100\n",
      "552/552 [==============================] - 3s 5ms/step - loss: 0.0296 - accuracy: 0.9896\n",
      "Epoch 78/100\n",
      "552/552 [==============================] - 3s 5ms/step - loss: 0.0299 - accuracy: 0.9888\n",
      "Epoch 79/100\n",
      "552/552 [==============================] - 3s 5ms/step - loss: 0.0306 - accuracy: 0.9887\n",
      "Epoch 80/100\n",
      "552/552 [==============================] - 3s 5ms/step - loss: 0.0300 - accuracy: 0.9893\n",
      "Epoch 81/100\n",
      "552/552 [==============================] - 3s 5ms/step - loss: 0.0320 - accuracy: 0.9885\n",
      "Epoch 82/100\n",
      "552/552 [==============================] - 3s 5ms/step - loss: 0.0330 - accuracy: 0.9878\n",
      "Epoch 83/100\n",
      "552/552 [==============================] - 3s 5ms/step - loss: 0.0309 - accuracy: 0.9887\n",
      "Epoch 84/100\n",
      "552/552 [==============================] - 3s 5ms/step - loss: 0.0297 - accuracy: 0.9896\n",
      "Epoch 85/100\n",
      "552/552 [==============================] - 3s 5ms/step - loss: 0.0293 - accuracy: 0.9897\n",
      "Epoch 86/100\n",
      "552/552 [==============================] - 3s 5ms/step - loss: 0.0285 - accuracy: 0.9900\n",
      "Epoch 87/100\n",
      "552/552 [==============================] - 3s 5ms/step - loss: 0.0300 - accuracy: 0.9888\n",
      "Epoch 88/100\n",
      "552/552 [==============================] - 3s 5ms/step - loss: 0.0282 - accuracy: 0.9896\n",
      "Epoch 89/100\n",
      "552/552 [==============================] - 3s 5ms/step - loss: 0.0317 - accuracy: 0.9892\n",
      "Epoch 90/100\n",
      "552/552 [==============================] - 3s 5ms/step - loss: 0.0288 - accuracy: 0.9896\n",
      "Epoch 91/100\n",
      "552/552 [==============================] - 3s 6ms/step - loss: 0.0300 - accuracy: 0.9891\n",
      "Epoch 92/100\n",
      "552/552 [==============================] - 3s 5ms/step - loss: 0.0295 - accuracy: 0.9896\n",
      "Epoch 93/100\n",
      "552/552 [==============================] - 3s 5ms/step - loss: 0.0295 - accuracy: 0.9901\n",
      "Epoch 94/100\n",
      "552/552 [==============================] - 3s 5ms/step - loss: 0.0286 - accuracy: 0.9898\n",
      "Epoch 95/100\n",
      "552/552 [==============================] - 3s 5ms/step - loss: 0.0289 - accuracy: 0.9892\n",
      "Epoch 96/100\n",
      "552/552 [==============================] - 3s 5ms/step - loss: 0.0274 - accuracy: 0.9902\n",
      "Epoch 97/100\n",
      "552/552 [==============================] - 3s 5ms/step - loss: 0.0292 - accuracy: 0.9904\n",
      "Epoch 98/100\n",
      "552/552 [==============================] - 3s 5ms/step - loss: 0.0301 - accuracy: 0.9897\n",
      "Epoch 99/100\n",
      "552/552 [==============================] - 3s 6ms/step - loss: 0.0296 - accuracy: 0.9893\n",
      "Epoch 100/100\n",
      "552/552 [==============================] - 3s 6ms/step - loss: 0.0297 - accuracy: 0.9893\n",
      "237/237 [==============================] - 1s 4ms/step - loss: 0.0600 - accuracy: 0.9878\n",
      "Accuracy : 0.987827479839325\n"
     ]
    }
   ],
   "source": [
    "data_log = \"3-final-kdd_data-{}\".format(int(time.time()))\n",
    "model = Sequential()\n",
    "\n",
    "\n",
    "model.add(Dense(units=64, activation='relu', input_dim=x_train.shape[1]))\n",
    "\n",
    "\n",
    "for _ in range(3):\n",
    "    model.add(Dense(units=64, activation='relu'))\n",
    "\n",
    "\n",
    "model.add(Dense(units=1, activation='sigmoid'))\n",
    "\n",
    "\n",
    "model.compile(loss='binary_crossentropy', optimizer='adam', metrics=['accuracy'])\n",
    "\n",
    "'''monitor = EarlyStopping(monitor='val_loss', min_delta=1e-3, \n",
    "                        patience=5, verbose=1, mode='auto',\n",
    "                           restore_best_weights=True)'''\n",
    "tensorboard = TensorBoard(log_dir=\"logs/{}\".format(data_log))\n",
    "model.fit(x_train, y_train, epochs=100, batch_size=32, verbose=1,callbacks=[tensorboard])\n",
    "\n",
    "\n",
    "accuracy = model.evaluate(x_test, y_test)[1]\n",
    "print(f\"Accuracy : {accuracy}\")"
   ]
  },
  {
   "cell_type": "code",
   "execution_count": 23,
   "id": "10c073c2-b109-456d-9e58-3c4e95f97e15",
   "metadata": {},
   "outputs": [],
   "source": [
    "model.save('ids_v0.h5')"
   ]
  }
 ],
 "metadata": {
  "kernelspec": {
   "display_name": "Python 3 (ipykernel)",
   "language": "python",
   "name": "python3"
  },
  "language_info": {
   "codemirror_mode": {
    "name": "ipython",
    "version": 3
   },
   "file_extension": ".py",
   "mimetype": "text/x-python",
   "name": "python",
   "nbconvert_exporter": "python",
   "pygments_lexer": "ipython3",
   "version": "3.8.10"
  }
 },
 "nbformat": 4,
 "nbformat_minor": 5
}
